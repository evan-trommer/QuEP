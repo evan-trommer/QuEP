{
 "cells": [
  {
   "cell_type": "markdown",
   "id": "898a0a58",
   "metadata": {},
   "source": [
    "# *Seawulf Crash Course*\n",
    "---"
   ]
  },
  {
   "cell_type": "markdown",
   "id": "35bd5e4c",
   "metadata": {},
   "source": [
    "# Accessing Seawulf\n",
    "___\n",
    "### Creating an Account\n",
    "Getting a seawulf account requires that you have a few things first: a netID, a project's principle investigator (PI) (this may be your mentor or whoever is in charge of your project), and a project number. Once you have those things you can go to the following link and [submit a ticket to the IACS Support Center](https://iacs.supportsystem.com/index.php). You'll want to press 'open new ticket', fill in your information, and select 'Request an account for Seawulf' in the help topics section. Once your ticket is processed a seawulf account should be set up and you'll be ready to go.\n",
    "\n",
    "### Logging in\n",
    "To login to seawulf you type in your terminal **ssh -X netID@login.seawulf.stonybrook.edu** You will be prompted to enter your password, note that while typing your password no text will show up, just type then hit enter. You will have to use duo login and then you're in!\n",
    ">**Commands**<br>\n",
    "ssh -X netID@login.seawulf.stonybrook.edu\n",
    "___"
   ]
  },
  {
   "cell_type": "markdown",
   "id": "c79142fe",
   "metadata": {},
   "source": [
    "# Creating and viewing files in Seawulf\n",
    "___\n",
    "### Transfering files to/from Seawulf\n",
    "In order to use QuEP you'll need all of the files in seawulf. First you should be logged in to the sftp seawulf. This is specifically for moving files securely. To do this you start not logged in to regular seawulf. So, from your normal computer, log in using the normal login procedure but instead of 'ssh -X' use 'sftp'. To move everything all together you use **put -R C:\\Users\\cpUsrName\\Folder\\pathName** . In order to move just one file use **put C:\\User\\cpUsrName\\file\\pathName**. To bring files from seawulf you use **get urFileName.typ** and it'll place it in your vs code directory. This is the only part that can exclusively be done in sftp, everything else can be done in ssh. \n",
    ">**Commands**<br>\n",
    "put -R C:\\Users\\cpUsrName\\Folder\\pathName<br>\n",
    "put C:\\User\\cpUsrName\\file\\pathName<br>\n",
    "get urFileName.typ\n",
    "\n",
    "### Seeing your files\n",
    "To view what you have access to in your seawulf you can use the command 'ls' this will show you all of your files. To change your directory (go into a folder you have or exit a folder) you use the command 'cd'. To go into a specifcic folder you would type **cd urFolderName**. To leave all the folders you're in and go to your home base, so to speak, you just enter **cd**.\n",
    ">**Commands**<br>\n",
    "cd urFolderName<br>\n",
    "cd\n",
    "\n",
    "### Creating/deleting/moving files\n",
    "There are a few ways to create a file. One way is to create it on your own computer in vs code, then transfer it to seawulf. Another way is to use emacs (see 'Opening a file' below). To do this you type **emacs urFileName.typ** and you will be taken into your new file. To edit this see the accessing files section below. To get rid of a file you use the **rm** command. Moving files happens the same way you would move files from the vs code terminal. In the ssh seawulf typing **mv urFileName.typ Folder/** will move the file to your folder. You may need to first move it to the directory your folder is in and then move it to the folder, it is the same general command for both.\n",
    ">**Commands**<br>\n",
    "emacs urFileName.typ<br>\n",
    "rm urFileName.typ<br>\n",
    "mv urFileName.typ Folder/\n",
    "___"
   ]
  },
  {
   "cell_type": "markdown",
   "id": "028f7f6c",
   "metadata": {},
   "source": [
    "# Accessing files\n",
    "***\n",
    "### Opening a file\n",
    "To open a file you have to first make sure you're in the directory that the file is in. Once you've done this you can type **emacs urFileName.typ** and you will be taken into the file.\n",
    ">**Commands:**<br>\n",
    "emacs urFileName.typ\n",
    "\n",
    "### Editing a file\n",
    "When in a file in the terminal you won't be able to scroll and need to use the arrow keys to navigate around. You can edit this file like any other file but must make sure to save before you exit.\n",
    "### Saving edits and exiting\n",
    "To save a file you press **crtl+x+s**. To exit a file you type **crtl+x+c**.\n",
    ">**Commands:**<br>\n",
    "ctrl+x+s<br>\n",
    "ctrl+x+c\n",
    "___"
   ]
  },
  {
   "cell_type": "markdown",
   "id": "e6ab855a",
   "metadata": {},
   "source": [
    "# Jobs\n",
    "___\n",
    "### How to run a job\n",
    "To run a job you first have to run the command **module load slurm** then run **sbatch urScriptFile.scr**. this will output the job number so that you can check in on your job later. \n",
    ">**Commands**<br>\n",
    "module load slurm<br>\n",
    "sbatch urScriptFile.scr\n",
    "\n",
    "### Using squeue\n",
    "Anything you want to find out about the queue or location of your job you will need some variation of the command 'squeue'. To use this you also need to load slurm. Just typing **squeue** will show you a list of all submitted jobs to the cluster. These aren't necessarily in order of priority. To see all squeue options type **squeue help** and all options will be shown. The most useful one (at least for me) has been **squeue -u netID**. This will show you a list of all the jobs you have submitted, their job number, partition, and time. \n",
    ">**Commands**<br>\n",
    "squeue<br>\n",
    "squeue help<br>\n",
    "squeue -u netID\n",
    "___"
   ]
  },
  {
   "cell_type": "markdown",
   "id": "61234fa2",
   "metadata": {},
   "source": [
    "## Script files\n",
    "---\n",
    "### Making a script file\n",
    "To make a script file, the easiest method is to copy an old one and edit it. In vs code go to the Old-Scripts folder and right click and copy on a file. Use ctrl+v to paste and then right click to rename your new file. Edit the contents to include your own job name, output file name, and email. These are important but easy to forget so make sure to double check. You may also need to edit the nodes, time, and partition (-p). Click this link for [information on the qualities and types of partitions](https://it.stonybrook.edu/help/kb/seawulf-queues). The time and nodes in your script file should correlate to the min/max number of nodes and the max time in the table provided. Transfer this to seawulf using the process from the **Transfering files to seawulf** section above.\n",
    "### Extra info on nodes, time, and partition\n",
    "Seawulf is a computer cluster; This just means it's a bunch of computers that are able to work together to run complicated jobs. The 'nodes' refers to the number of computers that will be running your job. The minimum/maximum you can put for this is directly related to the partition you choose as stated above. Some examples of partitions are the 'short-28core', 'medium-28core'and others. The bigger the job you want to  run the bigger the partition, nodes, and time you should pick. If you're running a big job it isn't uncommon for it to take more than 12 hours but it is always better to start smaller and increase the partition as needed.<br>\n",
    "### Wait times and priority\n",
    "It is normal to have to wait a little bit before your job starts. A normal wait time is usually less than 2-3 days. If you have jobs submitted that aren't running by this time it is likely there is an issue with your script file. Using squeue you can see the reason your jobs haven't run yet. If it says (Resources) or (Priority) your jobs are submitted correctly. However, if it says PartitionNodeLimit you have put an incorrect number of nodes for the partition you chose. The best thing to do is to cancel the job, edit the script file, and resubmit. To cancel a job use **scancel jobID** with slurm loaded.\n",
    ">**Commands:**<br>\n",
    "scancel jobID\n",
    "### Shared queues\n",
    "I've only used these once, so this info isn't totally complete. Shared queues are the milan partitions that are able to run multiple jobs at once. Using these can possibly get your job to run sooner. To use these you must login to milan specifically by replacing the 'login' in the ssh login with 'milan'\n",
    "___"
   ]
  },
  {
   "cell_type": "markdown",
   "id": "3adf169f",
   "metadata": {},
   "source": [
    "## Seawulf Help\n",
    "___\n",
    "Submit a ticket [here](https://iacs.supportsystem.com/) with any questions you have for extra help\n",
    "___"
   ]
  }
 ],
 "metadata": {
  "kernelspec": {
   "display_name": "Python 3 (ipykernel)",
   "language": "python",
   "name": "python3"
  },
  "language_info": {
   "codemirror_mode": {
    "name": "ipython",
    "version": 3
   },
   "file_extension": ".py",
   "mimetype": "text/x-python",
   "name": "python",
   "nbconvert_exporter": "python",
   "pygments_lexer": "ipython3",
   "version": "3.9.13"
  }
 },
 "nbformat": 4,
 "nbformat_minor": 5
}
