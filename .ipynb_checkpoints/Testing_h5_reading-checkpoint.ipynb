{
 "cells": [
  {
   "cell_type": "code",
   "execution_count": 1,
   "id": "4cd94551-3193-4953-8084-ba1e5152b55a",
   "metadata": {},
   "outputs": [],
   "source": [
    "import numpy as np\n",
    "import matplotlib.colors as col\n",
    "import matplotlib.pyplot as plt\n",
    "plt.rcParams.update({'font.size': 12})\n",
    "import matplotlib as mpl\n",
    "import matplotlib.cm as cm\n",
    "import matplotlib.ticker as ticker\n",
    "import pdb\n",
    "import time\n",
    "import progressbar\n",
    "import include.simulations.useQuasi3D as sim\n",
    "\n",
    "import h5py\n"
   ]
  },
  {
   "cell_type": "markdown",
   "id": "8785bb36-52a2-4928-a587-4f158ffc7edc",
   "metadata": {},
   "source": [
    "# Testing reading the h5 file"
   ]
  },
  {
   "cell_type": "code",
   "execution_count": 2,
   "id": "0a2222ed-56b8-4809-aaf6-c09055d85bd5",
   "metadata": {},
   "outputs": [
    {
     "name": "stdout",
     "output_type": "stream",
     "text": [
      "Keys: <KeysViewHDF5 ['AXIS', 'SIMULATION', 'b1_cyl_m']>\n",
      "[-0.20200261 39.79799739]\n",
      "[-5.21662246e-03  1.17947834e+01]\n"
     ]
    }
   ],
   "source": [
    "Quasi_ID = '000130'\n",
    "filename = r'data/OSIRIS/Quasi3D/b1_cyl_m-0-re-'+ Quasi_ID + '.h5'\n",
    "\n",
    "with h5py.File(filename, \"r\") as f:\n",
    "    # List all groups\n",
    "    print(\"Keys: %s\" % f.keys())\n",
    "    a_group_key = list(f.keys())[0]\n",
    "\n",
    "    # Get the data\n",
    "    data = list(f[a_group_key])\n",
    "    fields = f['AXIS']['AXIS1']\n",
    "    r_fields = f['AXIS']['AXIS2']\n",
    "    print(fields[:])\n",
    "    print(r_fields[:])"
   ]
  },
  {
   "cell_type": "code",
   "execution_count": null,
   "id": "0cb0f524-c354-4c70-97c7-92d12d79fc1d",
   "metadata": {},
   "outputs": [],
   "source": []
  }
 ],
 "metadata": {
  "kernelspec": {
   "display_name": "Python 3",
   "language": "python",
   "name": "python3"
  },
  "language_info": {
   "codemirror_mode": {
    "name": "ipython",
    "version": 3
   },
   "file_extension": ".py",
   "mimetype": "text/x-python",
   "name": "python",
   "nbconvert_exporter": "python",
   "pygments_lexer": "ipython3",
   "version": "3.8.8"
  }
 },
 "nbformat": 4,
 "nbformat_minor": 5
}
