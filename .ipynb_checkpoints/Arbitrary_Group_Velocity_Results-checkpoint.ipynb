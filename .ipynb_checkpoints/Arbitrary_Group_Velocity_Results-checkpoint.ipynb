{
 "cells": [
  {
   "cell_type": "code",
   "execution_count": 231,
   "id": "ff90613e-950c-448b-9f4a-32eda1f31af6",
   "metadata": {},
   "outputs": [],
   "source": [
    "from subprocess import check_call\n",
    "from datetime import datetime\n",
    "import importlib\n",
    "import matplotlib.colors as col\n",
    "import matplotlib.pyplot as plt\n",
    "import matplotlib as mpl\n",
    "import matplotlib.cm as cm\n",
    "import matplotlib.ticker as ticker\n",
    "import math\n",
    "from mpl_toolkits.mplot3d import Axes3D\n",
    "import pdb\n",
    "import pickle\n",
    "from DebugObjectModule import DebugObject\n"
   ]
  },
  {
   "cell_type": "markdown",
   "id": "88f9922d-6939-4e34-b1a1-9a44b5c03586",
   "metadata": {},
   "source": [
    "This file will calculate $x$ at $y=0$ for the single particle for creation of plot for thesis"
   ]
  },
  {
   "cell_type": "markdown",
   "id": "3a2adfa4-abde-4328-9a4f-ed602e09dbda",
   "metadata": {},
   "source": [
    "## Import file conditions"
   ]
  },
  {
   "cell_type": "code",
   "execution_count": 462,
   "id": "dace94fb-98b0-4f98-a71b-d484ba955095",
   "metadata": {},
   "outputs": [
    {
     "name": "stdout",
     "output_type": "stream",
     "text": [
      "Using initial conditions from  input.thesis.Eta_Plot.single_arbitrary_eta_04\n"
     ]
    }
   ],
   "source": [
    "set_num = \"06\"\n",
    "Run_num = \"single_arbitrary_eta_04\"\n",
    "\n",
    "input_fname_1 = str(f\"input.thesis.Eta_Plot.{Run_num}\")\n",
    "print(\"Using initial conditions from \", input_fname_1)\n",
    "init = importlib.import_module(input_fname_1)\n",
    "sim_name = init.simulation_name\n",
    "shape_name = init.shape\n",
    "xden = init.xdensity\n",
    "yden = init.ydensity\n",
    "xiden = init.xidensity\n",
    "res = init.resolution\n",
    "iter = init.iterations\n",
    "mode = init.mode\n",
    "fname = init.fname\n",
    "debugmode = init.debugmode\n",
    "x_c = init.x_c\n",
    "y_c = init.y_c\n",
    "xi_c = init.xi_c\n",
    "px_0 = init.px_0\n",
    "py_0 = init.py_0\n",
    "pz_0 = init.pz_0\n",
    "x_s = init.x_s\n",
    "s1 = init.s1\n",
    "s2 = init.s2"
   ]
  },
  {
   "cell_type": "code",
   "execution_count": 463,
   "id": "14d4972c-2821-4309-8cf8-982e848d9d57",
   "metadata": {},
   "outputs": [],
   "source": [
    "# Load data from npz file export from main.py\n",
    "data = np.load(\"./data/\"+set_num+\"/\"+fname) # Change this line as needed\n",
    "x_0 = data['x_init'][0]\n",
    "y_0 = data['y_init'][0]\n",
    "xi_0 = data['xi_init'][0]\n",
    "z_0 = data['z_init'][0]\n",
    "x_f = data['x_dat'][0]\n",
    "y_f = data['y_dat'][0]\n",
    "xi_f = data['xi_dat'][0]\n",
    "z_f = data['z_dat'][0]\n",
    "px_f = data['px_dat'][0]\n",
    "py_f = data['py_dat'][0]\n",
    "pz_f = data['pz_dat'][0]\n",
    "t0 = data['t_dat']"
   ]
  },
  {
   "cell_type": "code",
   "execution_count": 464,
   "id": "ab8691d9-a177-45f1-9af9-31a8787f7406",
   "metadata": {},
   "outputs": [
    {
     "data": {
      "text/plain": [
       "-2.4"
      ]
     },
     "execution_count": 464,
     "metadata": {},
     "output_type": "execute_result"
    }
   ],
   "source": [
    "x_0"
   ]
  },
  {
   "cell_type": "code",
   "execution_count": 465,
   "id": "9b4d7e62-6e17-4b29-8895-05faf3a2cfcf",
   "metadata": {},
   "outputs": [
    {
     "name": "stdout",
     "output_type": "stream",
     "text": [
      "<DebugObjectModule.DebugObject object at 0x7fc2dafdb1c0>\n",
      "<class 'DebugObjectModule.DebugObject'>\n"
     ]
    }
   ],
   "source": [
    "file = open(\"./data/\"+set_num+\"/\"+fname[:-4]+\"-DEBUG.obj\", 'rb') \n",
    "debug = pickle.load(file)[0]\n",
    "file.close\n",
    "print(debug)\n",
    "print(type(debug))\n",
    "x_dat = np.squeeze(debug.x_dat)\n",
    "y_dat = np.squeeze(debug.y_dat)\n",
    "z_dat = np.squeeze(debug.z_dat)\n",
    "xi_dat = np.squeeze(debug.xi_dat)\n",
    "Fx_dat = np.squeeze(debug.Fx_dat)\n",
    "Fy_dat = np.squeeze(debug.Fy_dat)\n",
    "Fz_dat = np.squeeze(debug.Fz_dat)\n",
    "px_dat = np.squeeze(debug.px_dat)\n",
    "py_dat = np.squeeze(debug.py_dat)"
   ]
  },
  {
   "cell_type": "markdown",
   "id": "5a3ef03f-b61a-4e4a-887b-2f8be0eb33bf",
   "metadata": {
    "tags": []
   },
   "source": [
    "## Beta Calculation"
   ]
  },
  {
   "cell_type": "code",
   "execution_count": 466,
   "id": "c074dd2a-8451-44d7-b868-0f00e19f9750",
   "metadata": {},
   "outputs": [],
   "source": [
    "def Gamma(p):\n",
    "        return math.sqrt(1.0 + p**2)\n",
    "\n",
    "def Velocity(px,ptot):\n",
    "    # Returns relativistic velocity from momentum\n",
    "    return px / Gamma(ptot)"
   ]
  },
  {
   "cell_type": "code",
   "execution_count": 467,
   "id": "3c3a9250-9592-4fbc-a9a5-9f1936fa6237",
   "metadata": {
    "tags": []
   },
   "outputs": [
    {
     "name": "stdout",
     "output_type": "stream",
     "text": [
      "px = 1000\n",
      "pz = 4933\n",
      "vx = 0.19867531806314684\n",
      "vz = 0.9800653440055033\n",
      "alpha = 0.20000611304678442\n",
      "gamma = 5033.337858717612\n"
     ]
    }
   ],
   "source": [
    "px = px_0\n",
    "py = py_0\n",
    "pz = pz_0\n",
    "p = math.sqrt(px**2 + py**2 + pz**2)\n",
    "vx = Velocity(px, p)\n",
    "\n",
    "if (pz == 0):\n",
    "    alpha = math.atan(math.inf)\n",
    "else:\n",
    "    vx = Velocity(px, p)\n",
    "    vz = Velocity(pz, p)\n",
    "    alpha = math.atan(vx/vz)\n",
    "gamma = math.sqrt(p**2 + 1)\n",
    "\n",
    "print(f\"px = {px}\")\n",
    "print(f\"pz = {pz}\")\n",
    "\n",
    "print(f\"vx = {vx}\")\n",
    "print(f\"vz = {vz}\")\n",
    "print(f\"alpha = {alpha}\")\n",
    "print(f\"gamma = {gamma}\")"
   ]
  },
  {
   "cell_type": "code",
   "execution_count": 468,
   "id": "6ba58ee0-5191-4da9-9148-24db2d6ff169",
   "metadata": {},
   "outputs": [],
   "source": [
    "#Create array for iterations\n",
    "iterations = np.arange(0,len(xi_dat),1)\n",
    "#print(iterations)\n",
    "\n",
    "dt = 0.005 #Timestep in 1/w_p\n",
    "\n",
    "#Create array for times\n",
    "time = iterations*dt\n",
    "#print(time)"
   ]
  },
  {
   "cell_type": "code",
   "execution_count": 469,
   "id": "d866cef1-38db-42b0-8f5b-9ae6df10459f",
   "metadata": {},
   "outputs": [],
   "source": [
    "t=len(x_dat)*dt + 51.9948"
   ]
  },
  {
   "cell_type": "code",
   "execution_count": 470,
   "id": "82f695cf-d6a5-4d59-81b1-8cf23edaae8e",
   "metadata": {},
   "outputs": [
    {
     "data": {
      "text/plain": [
       "5273"
      ]
     },
     "execution_count": 470,
     "metadata": {},
     "output_type": "execute_result"
    }
   ],
   "source": [
    "len(x_dat)"
   ]
  },
  {
   "cell_type": "code",
   "execution_count": 471,
   "id": "e3476a39-0cce-4a2e-9c32-ef9de3414a4d",
   "metadata": {},
   "outputs": [
    {
     "data": {
      "image/png": "[encoded data removed]",
      "text/plain": [
       "<Figure size 432x288 with 1 Axes>"
      ]
     },
     "metadata": {
      "needs_background": "light"
     },
     "output_type": "display_data"
    }
   ],
   "source": [
    "fig1, ax1 = plt.subplots(1)\n",
    "ax1.set_xlabel(r\"$x$ ($c/\\omega_p$)\")\n",
    "ax1.set_ylabel(r\"$y$ ($c/\\omega_p$)\")\n",
    "ax1.set_title(f\"Electron Trajectories through Blowout Regime \\n\"+r\"$\\alpha=$\"+f\"{alpha}\")\n",
    "ax1.ticklabel_format(style='plain', axis='y',useOffset=False)\n",
    "\n",
    "for i in range(0, 1):\n",
    "    ax1.plot(x_dat[:], y_dat[:],  'k', label='$time-Xi Trajectory') # Want vertical axis as y\n",
    "\n",
    "fig1.tight_layout()\n",
    "fig1.savefig(\"Group_Velocity_Verification_\"+fname[:-4]+\".png\", transparent=False)"
   ]
  },
  {
   "cell_type": "code",
   "execution_count": 472,
   "id": "0a002eb8-46e3-4d39-87d5-0cb16ad68cd1",
   "metadata": {},
   "outputs": [
    {
     "name": "stdout",
     "output_type": "stream",
     "text": [
      "slope = -0.0006992071432412969, intercept = 0.3000009360415979\n"
     ]
    }
   ],
   "source": [
    "slope = (y_dat[-1]-y_dat[-2])/(x_dat[-1]-x_dat[-2])\n",
    "intercept = y_dat[-1]-(slope*x_dat[-1])\n",
    "\n",
    "print(f\"slope = {slope}, intercept = {intercept}\")"
   ]
  },
  {
   "cell_type": "code",
   "execution_count": 473,
   "id": "1e3c247a-c15d-4d55-a6a1-c5752f799d9f",
   "metadata": {},
   "outputs": [
    {
     "name": "stdout",
     "output_type": "stream",
     "text": [
      "y = 0 when x = 429.0587402338184\n"
     ]
    }
   ],
   "source": [
    "root = ((-1.)*(intercept))/(slope)\n",
    "print(f\"y = 0 when x = {root}\")"
   ]
  },
  {
   "cell_type": "code",
   "execution_count": 474,
   "id": "f7fe2bb4-0776-4c62-bcfd-3500ced0c442",
   "metadata": {},
   "outputs": [],
   "source": [
    "root = str(root)"
   ]
  },
  {
   "cell_type": "code",
   "execution_count": 475,
   "id": "6f40cba4-86e5-4c7d-8bb0-0d9e5419422a",
   "metadata": {},
   "outputs": [
    {
     "name": "stdout",
     "output_type": "stream",
     "text": [
      "06-04 Copied to clipboard! at 02:36:16\n"
     ]
    },
    {
     "data": {
      "text/plain": [
       "0"
      ]
     },
     "execution_count": 475,
     "metadata": {},
     "output_type": "execute_result"
    }
   ],
   "source": [
    "def copy2clip(txt):\n",
    "    cmd='echo '+txt.strip()+'|pbcopy'\n",
    "    now = datetime.now()\n",
    "    current_time = now.strftime(\"%I:%M:%S\")\n",
    "    print(set_num+\"-\"+Run_num[-2:]+\" Copied to clipboard! at \"+current_time)\n",
    "    return check_call(cmd, shell=True)\n",
    "\n",
    "copy2clip(root)"
   ]
  },
  {
   "cell_type": "code",
   "execution_count": null,
   "id": "ade099be-b836-4ac1-803b-db2859ac55c2",
   "metadata": {},
   "outputs": [],
   "source": []
  },
  {
   "cell_type": "code",
   "execution_count": null,
   "id": "864c5920-4ece-4bf4-97f1-c5abb8c6ce41",
   "metadata": {},
   "outputs": [],
   "source": []
  }
 ],
 "metadata": {
  "kernelspec": {
   "display_name": "Python 3 (ipykernel)",
   "language": "python",
   "name": "python3"
  },
  "language_info": {
   "codemirror_mode": {
    "name": "ipython",
    "version": 3
   },
   "file_extension": ".py",
   "mimetype": "text/x-python",
   "name": "python",
   "nbconvert_exporter": "python",
   "pygments_lexer": "ipython3",
   "version": "3.9.7"
  }
 },
 "nbformat": 4,
 "nbformat_minor": 5
}
