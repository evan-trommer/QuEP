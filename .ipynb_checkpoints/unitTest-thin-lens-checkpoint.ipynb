{
 "cells": [
  {
   "cell_type": "code",
   "execution_count": 2,
   "id": "f6f1012e-0957-4b2b-921a-fb1057f0f0ae",
   "metadata": {},
   "outputs": [],
   "source": [
    "import numpy as np\n",
    "import math"
   ]
  },
  {
   "cell_type": "code",
   "execution_count": 60,
   "id": "6f937813-6815-4164-bdc1-0a80530e9f4e",
   "metadata": {},
   "outputs": [
    {
     "name": "stdout",
     "output_type": "stream",
     "text": [
      "vx=0.11\n",
      "xp=4.7934851621758465\n"
     ]
    }
   ],
   "source": [
    "px = 110\n",
    "vx = px/1000\n",
    "print(f\"vx={vx}\")\n",
    "rb = 4.8\n",
    "y0 = 0.25\n",
    "xp = np.sqrt(rb**2-y0**2)\n",
    "print(f\"xp={xp}\")\n",
    "k = 0.215"
   ]
  },
  {
   "cell_type": "code",
   "execution_count": 61,
   "id": "037c10c8-4337-426a-8601-e73531ba5570",
   "metadata": {},
   "outputs": [
    {
     "name": "stdout",
     "output_type": "stream",
     "text": [
      "Focal Length f=5.870370707676897\n"
     ]
    }
   ],
   "source": [
    "f = (px*vx)/(2*xp*k)\n",
    "print(f\"Focal Length f={f}\")"
   ]
  },
  {
   "cell_type": "code",
   "execution_count": 62,
   "id": "d2297868-1cd6-4dc8-a611-eba526393a9b",
   "metadata": {},
   "outputs": [
    {
     "name": "stdout",
     "output_type": "stream",
     "text": [
      "Expected Fy=0.05375\n"
     ]
    }
   ],
   "source": [
    "Fy_calc = k*y0\n",
    "print(f\"Expected Fy={Fy}\")"
   ]
  },
  {
   "cell_type": "code",
   "execution_count": 67,
   "id": "4f672b56-4f55-4b7b-9d6a-a1da9757968d",
   "metadata": {},
   "outputs": [
    {
     "name": "stdout",
     "output_type": "stream",
     "text": [
      "Simulated Fy=0.0875\n"
     ]
    }
   ],
   "source": [
    "Fy_sim = 0.35*y0\n",
    "print(f\"Simulated Fy={Fy_sim}\")"
   ]
  },
  {
   "cell_type": "markdown",
   "id": "bceeee5f-5d12-4b6b-bd84-7fcda0a8c031",
   "metadata": {},
   "source": [
    "Simulated Focal length: 5.85"
   ]
  },
  {
   "cell_type": "code",
   "execution_count": 70,
   "id": "76b33e19-1086-4d23-8768-9fed9dc566db",
   "metadata": {},
   "outputs": [],
   "source": [
    "deltaT=2*xp/vx"
   ]
  },
  {
   "cell_type": "code",
   "execution_count": 71,
   "id": "23698a5c-7c87-42a6-87b8-59e1bb3c825a",
   "metadata": {},
   "outputs": [
    {
     "name": "stdout",
     "output_type": "stream",
     "text": [
      "py expected=4.684542317580941\n"
     ]
    }
   ],
   "source": [
    "py_calc = Fy_calc*deltaT\n",
    "print(f\"py expected={py_calc}\")"
   ]
  },
  {
   "cell_type": "code",
   "execution_count": null,
   "id": "94270ba4-6b7d-4b77-adfe-f0364c6ddd08",
   "metadata": {},
   "outputs": [],
   "source": []
  }
 ],
 "metadata": {
  "kernelspec": {
   "display_name": "Python 3",
   "language": "python",
   "name": "python3"
  },
  "language_info": {
   "codemirror_mode": {
    "name": "ipython",
    "version": 3
   },
   "file_extension": ".py",
   "mimetype": "text/x-python",
   "name": "python",
   "nbconvert_exporter": "python",
   "pygments_lexer": "ipython3",
   "version": "3.8.8"
  }
 },
 "nbformat": 4,
 "nbformat_minor": 5
}
